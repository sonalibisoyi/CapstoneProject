{
 "cells": [
  {
   "cell_type": "code",
   "execution_count": null,
   "id": "ccb739b2",
   "metadata": {},
   "outputs": [],
   "source": [
    "import mysql.connector\n",
    "\n",
    "def create_connection():\n",
    "    cnx = mysql.connector.connect(user='root', password='12345678',\n",
    "                              host='127.0.0.1', database='sales data')\n",
    "    return cnx\n",
    "\n",
    "def close_connection(cnx):\n",
    "    cnx.close()\n",
    "    \n",
    "def execute_query(query, cnx):\n",
    "    if cnx and cnx.is_connected():\n",
    "        with cnx.cursor() as cursor:\n",
    "\n",
    "            result = cursor.execute(query)\n",
    "\n",
    "            rows = cursor.fetchall()\n",
    "\n",
    "            for row in rows:\n",
    "                return str(row[0])\n",
    "\n",
    "    else:\n",
    "        return \"Could not connect\"\n",
    "    \n",
    "def get_inventory(item):\n",
    "    query = \"SELECT sum(Available_Qty) from item where category like '%{}%'\".format(item)\n",
    "    cnx = create_connection()\n",
    "    value = execute_query(query,cnx)\n",
    "    close_connection(cnx)\n",
    "    return value\n"
   ]
  },
  {
   "cell_type": "code",
   "execution_count": null,
   "id": "44f89a73",
   "metadata": {},
   "outputs": [],
   "source": [
    "get_inventory('Kurta')"
   ]
  },
  {
   "cell_type": "code",
   "execution_count": null,
   "id": "f8b59c02",
   "metadata": {},
   "outputs": [],
   "source": [
    "import datetime\n",
    "\n",
    "# Get today's date\n",
    "today = datetime.date.today() - datetime.timedelta(days=7)\n",
    "\n",
    "# Calculate the number of days that have passed since Sunday (0 is Monday, 6 is Sunday)\n",
    "days_passed = today.weekday() + 2  # Adding 1 to shift Sunday from 6 to 0\n",
    "\n",
    "# Calculate the date for this week's Saturday\n",
    "saturday = today + datetime.timedelta(days=(5 - today.weekday()))\n",
    "\n",
    "# Format the date of Saturday\n",
    "saturday_formatted = saturday.strftime(\"%Y/%m/%d\")\n",
    "\n",
    "print(\"Number of days passed in the current week:\", days_passed)\n",
    "print(\"Date of this week's Saturday:\", saturday_formatted)"
   ]
  },
  {
   "cell_type": "code",
   "execution_count": 1,
   "id": "dc32c324",
   "metadata": {},
   "outputs": [],
   "source": [
    "from sklearn.linear_model import LinearRegression\n",
    "import joblib\n",
    "from db_connection import get_inventory, get_week_data, get_category, get_parent_sku, get_sku_count, get_sales_data\n",
    "\n",
    "loaded_model_item = joblib.load('linear_regression_model.pkl')\n",
    "loaded_model_category = joblib.load('linear_regression_model_category.pkl')"
   ]
  },
  {
   "cell_type": "code",
   "execution_count": 8,
   "id": "288aa13b",
   "metadata": {},
   "outputs": [
    {
     "name": "stdout",
     "output_type": "stream",
     "text": [
      "SELECT sum(qty) FROM combined WHERE EXTRACT(YEAR FROM date_ending) = '2023' AND EXTRACT(MONTH FROM date_ending) = '5' AND product_name like '%bihari%%%kurta%'\n"
     ]
    },
    {
     "data": {
      "text/plain": [
       "'40'"
      ]
     },
     "execution_count": 8,
     "metadata": {},
     "output_type": "execute_result"
    }
   ],
   "source": [
    "get_sales_data('bihari kurta','5', '2023', 'item')"
   ]
  },
  {
   "cell_type": "code",
   "execution_count": null,
   "id": "e72d8948",
   "metadata": {},
   "outputs": [],
   "source": [
    "import pandas as pd\n",
    "\n",
    "new_record = pd.DataFrame([{'Category':'kurta','wk_m_1':97}])\n",
    "\n",
    "loaded_model_category.predict(new_record)"
   ]
  },
  {
   "cell_type": "code",
   "execution_count": null,
   "id": "88b8b430",
   "metadata": {},
   "outputs": [],
   "source": [
    "import pandas as pd\n",
    "\n",
    "new_record = pd.DataFrame([{'SKU_Parent':'J0003-SET','wk_m_1':2}])\n",
    "\n",
    "ceil(loaded_model_item.predict(new_record)[0])"
   ]
  },
  {
   "cell_type": "code",
   "execution_count": null,
   "id": "a4ec0301",
   "metadata": {},
   "outputs": [],
   "source": [
    "import math\n",
    "\n",
    "math.ceil(0.387)"
   ]
  },
  {
   "cell_type": "code",
   "execution_count": null,
   "id": "1531d6b0",
   "metadata": {},
   "outputs": [],
   "source": [
    "category"
   ]
  },
  {
   "cell_type": "code",
   "execution_count": null,
   "id": "482a3c3f",
   "metadata": {},
   "outputs": [],
   "source": [
    "weekly_count"
   ]
  },
  {
   "cell_type": "code",
   "execution_count": null,
   "id": "ce1afbad",
   "metadata": {},
   "outputs": [],
   "source": [
    "'%{}%'.format(\"%\".join(\"abc def\".split()))"
   ]
  },
  {
   "cell_type": "code",
   "execution_count": null,
   "id": "58695bfa",
   "metadata": {},
   "outputs": [],
   "source": [
    "date_req = datetime.date.today()                             \n",
    "days_passed = date_req.weekday() + 2  # Adding 1 to shift Sunday from 6 to 0\n",
    "saturday = date_req + datetime.timedelta(days=(5 - date_req.weekday()))\n",
    "saturday_formatted = saturday.strftime(\"%Y-%m-%d\")"
   ]
  },
  {
   "cell_type": "code",
   "execution_count": null,
   "id": "f49297bd",
   "metadata": {},
   "outputs": [],
   "source": [
    "query = \"SELECT sum(qty) FROM combined WHERE date_ending = '{}' AND category like '%{}%'\".format(saturday_formatted, category)"
   ]
  },
  {
   "cell_type": "code",
   "execution_count": null,
   "id": "ae8a2385",
   "metadata": {},
   "outputs": [],
   "source": [
    "query"
   ]
  },
  {
   "cell_type": "code",
   "execution_count": null,
   "id": "91eec3ab",
   "metadata": {},
   "outputs": [],
   "source": [
    "from db_connection import create_connection, execute_query, close_connection\n",
    "cnx = create_connection()\n",
    "value = execute_query(query,cnx)\n",
    "close_connection(cnx)\n"
   ]
  },
  {
   "cell_type": "code",
   "execution_count": null,
   "id": "ae43e05a",
   "metadata": {},
   "outputs": [],
   "source": [
    "value"
   ]
  },
  {
   "cell_type": "code",
   "execution_count": null,
   "id": "5e7622e0",
   "metadata": {},
   "outputs": [],
   "source": [
    "import datetime"
   ]
  },
  {
   "cell_type": "code",
   "execution_count": null,
   "id": "cc48102d",
   "metadata": {},
   "outputs": [],
   "source": [
    "saturday_formatted"
   ]
  },
  {
   "cell_type": "code",
   "execution_count": null,
   "id": "ad75b3b3",
   "metadata": {},
   "outputs": [],
   "source": [
    "import sklearn\n",
    "sklearn.__version__"
   ]
  },
  {
   "cell_type": "code",
   "execution_count": null,
   "id": "48e255c4",
   "metadata": {},
   "outputs": [],
   "source": [
    "category = get_category('kurta')\n",
    "weekly_count = get_week_data('kurta', 'category', 'current')\n",
    "\n",
    "if(weekly_count is None):\n",
    "    weekly_count = 0\n",
    "else:\n",
    "    weekly_count = int(weekly_count)\n",
    "\n",
    "new_record = pd.DataFrame([{'Category':category,'wk_m_1':weekly_count}])\n",
    "\n",
    "predicted_value = loaded_model_category.predict(new_record)[0]\n",
    "\n",
    "predicted_value = math.ceil(predicted_value)"
   ]
  },
  {
   "cell_type": "code",
   "execution_count": null,
   "id": "378b28b6",
   "metadata": {},
   "outputs": [],
   "source": [
    "import math"
   ]
  },
  {
   "cell_type": "code",
   "execution_count": null,
   "id": "7a8963d5",
   "metadata": {},
   "outputs": [],
   "source": [
    "sku_parent = get_parent_sku('bihari kurta')\n",
    "sku_count = get_sku_count('bihari kurta')\n",
    "\n",
    "weekly_count = get_week_data('bihari kurta', 'item', 'current')\n",
    "\n",
    "new_record = pd.DataFrame([{'SKU_Parent':sku_parent,'wk_m_1':weekly_count*int(sku_count)}])\n",
    "\n",
    "predicted_value = loaded_model_item.predict(new_record)[0]\n",
    "\n",
    "predicted_value = math.ceil(predicted_value)"
   ]
  },
  {
   "cell_type": "code",
   "execution_count": null,
   "id": "e28fc302",
   "metadata": {},
   "outputs": [],
   "source": [
    "predicted_value"
   ]
  },
  {
   "cell_type": "code",
   "execution_count": null,
   "id": "22a566b5",
   "metadata": {},
   "outputs": [],
   "source": []
  }
 ],
 "metadata": {
  "kernelspec": {
   "display_name": "firstEnv",
   "language": "python",
   "name": "firstenv"
  },
  "language_info": {
   "codemirror_mode": {
    "name": "ipython",
    "version": 3
   },
   "file_extension": ".py",
   "mimetype": "text/x-python",
   "name": "python",
   "nbconvert_exporter": "python",
   "pygments_lexer": "ipython3",
   "version": "3.11.5"
  }
 },
 "nbformat": 4,
 "nbformat_minor": 5
}
